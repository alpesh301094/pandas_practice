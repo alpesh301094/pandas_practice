{
 "cells": [
  {
   "cell_type": "code",
   "execution_count": 28,
   "id": "6279e47f",
   "metadata": {},
   "outputs": [],
   "source": [
    "import json"
   ]
  },
  {
   "cell_type": "code",
   "execution_count": 29,
   "id": "00d05b8c",
   "metadata": {},
   "outputs": [],
   "source": [
    "file_path = 'schemas.json'"
   ]
  },
  {
   "cell_type": "code",
   "execution_count": 30,
   "id": "283d0dc7",
   "metadata": {},
   "outputs": [],
   "source": [
    "schemas = json.load(open(file_path))"
   ]
  },
  {
   "cell_type": "code",
   "execution_count": 31,
   "id": "a491a9d6",
   "metadata": {},
   "outputs": [
    {
     "data": {
      "text/plain": [
       "[{'column_name': 'order_id', 'data_type': 'integer', 'column_position': 1},\n",
       " {'column_name': 'order_date', 'data_type': 'string', 'column_position': 2},\n",
       " {'column_name': 'order_customer_id',\n",
       "  'data_type': 'timestamp',\n",
       "  'column_position': 3},\n",
       " {'column_name': 'order_status', 'data_type': 'string', 'column_position': 4}]"
      ]
     },
     "execution_count": 31,
     "metadata": {},
     "output_type": "execute_result"
    }
   ],
   "source": [
    "#schemas.get('orders')\n",
    "schemas['orders']"
   ]
  },
  {
   "cell_type": "code",
   "execution_count": 32,
   "id": "f6fc4089",
   "metadata": {},
   "outputs": [],
   "source": [
    "column_details = schemas['orders']"
   ]
  },
  {
   "cell_type": "code",
   "execution_count": 33,
   "id": "379e425b",
   "metadata": {},
   "outputs": [
    {
     "data": {
      "text/plain": [
       "['order_id', 'order_date', 'order_customer_id', 'order_status']"
      ]
     },
     "execution_count": 33,
     "metadata": {},
     "output_type": "execute_result"
    }
   ],
   "source": [
    "[col['column_name'] for col in column_details]"
   ]
  },
  {
   "cell_type": "code",
   "execution_count": 34,
   "id": "29d2ae78",
   "metadata": {},
   "outputs": [
    {
     "data": {
      "text/plain": [
       "['order_id', 'order_date', 'order_customer_id', 'order_status']"
      ]
     },
     "execution_count": 34,
     "metadata": {},
     "output_type": "execute_result"
    }
   ],
   "source": [
    "list(map(lambda col: col['column_name'], column_details))"
   ]
  },
  {
   "cell_type": "code",
   "execution_count": 37,
   "id": "0e8f347d",
   "metadata": {},
   "outputs": [],
   "source": [
    "sorting_key = input('Enter sorting key: ')"
   ]
  },
  {
   "cell_type": "code",
   "execution_count": 38,
   "id": "8281c229",
   "metadata": {},
   "outputs": [],
   "source": [
    "columns = sorted(column_details, key=lambda col: col[sorting_key], reverse=True)"
   ]
  },
  {
   "cell_type": "code",
   "execution_count": null,
   "id": "2b1540f8",
   "metadata": {},
   "outputs": [
    {
     "data": {
      "text/plain": [
       "['order_status', 'order_customer_id', 'order_date', 'order_id']"
      ]
     },
     "execution_count": 26,
     "metadata": {},
     "output_type": "execute_result"
    }
   ],
   "source": [
    "[col['column_name'] for col in columns]"
   ]
  },
  {
   "cell_type": "code",
   "execution_count": 27,
   "id": "410eb008",
   "metadata": {},
   "outputs": [],
   "source": [
    "def get_column_names(schemas, ds_name, sorting_key='column_position'):\n",
    "    column_details = schemas[ds_name]\n",
    "    columns = sorted(column_details, key=lambda col: col[sorting_key])\n",
    "    return [col['column_name'] for col in columns]"
   ]
  },
  {
   "cell_type": "code",
   "execution_count": 39,
   "id": "d50fa04e",
   "metadata": {},
   "outputs": [
    {
     "data": {
      "text/plain": [
       "['order_id', 'order_date', 'order_customer_id', 'order_status']"
      ]
     },
     "execution_count": 39,
     "metadata": {},
     "output_type": "execute_result"
    }
   ],
   "source": [
    "get_column_names(schemas, 'orders')\n"
   ]
  }
 ],
 "metadata": {
  "kernelspec": {
   "display_name": ".venv",
   "language": "python",
   "name": "python3"
  },
  "language_info": {
   "codemirror_mode": {
    "name": "ipython",
    "version": 3
   },
   "file_extension": ".py",
   "mimetype": "text/x-python",
   "name": "python",
   "nbconvert_exporter": "python",
   "pygments_lexer": "ipython3",
   "version": "3.11.4"
  }
 },
 "nbformat": 4,
 "nbformat_minor": 5
}
