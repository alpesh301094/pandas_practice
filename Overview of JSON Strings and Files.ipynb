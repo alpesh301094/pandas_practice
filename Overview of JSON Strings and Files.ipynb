{
 "cells": [
  {
   "cell_type": "code",
   "execution_count": null,
   "id": "36c1d04b",
   "metadata": {},
   "outputs": [],
   "source": [
    "order_jd = \"{\\\"order_id\\\": 1, \\\"order_date\\\": \\\"2013-07-25\\\"}\""
   ]
  },
  {
   "cell_type": "code",
   "execution_count": 8,
   "id": "9ec05378",
   "metadata": {},
   "outputs": [
    {
     "data": {
      "text/plain": [
       "'{\"order_id\": 1, \"order_date\": \"2013-07-25\"}'"
      ]
     },
     "execution_count": 8,
     "metadata": {},
     "output_type": "execute_result"
    }
   ],
   "source": [
    "order_jd"
   ]
  },
  {
   "cell_type": "code",
   "execution_count": 9,
   "id": "b91401f2",
   "metadata": {},
   "outputs": [],
   "source": [
    "import json"
   ]
  },
  {
   "cell_type": "code",
   "execution_count": null,
   "id": "28ae328e",
   "metadata": {},
   "outputs": [],
   "source": [
    "order = json.loads(order_jd)"
   ]
  },
  {
   "cell_type": "code",
   "execution_count": 11,
   "id": "badb5064",
   "metadata": {},
   "outputs": [
    {
     "data": {
      "text/plain": [
       "dict"
      ]
     },
     "execution_count": 11,
     "metadata": {},
     "output_type": "execute_result"
    }
   ],
   "source": [
    "type(order)"
   ]
  },
  {
   "cell_type": "code",
   "execution_count": null,
   "id": "5fc4ee37",
   "metadata": {},
   "outputs": [
    {
     "data": {
      "text/plain": [
       "'2013-07-25'"
      ]
     },
     "execution_count": 12,
     "metadata": {},
     "output_type": "execute_result"
    }
   ],
   "source": [
    "order['order_date']"
   ]
  },
  {
   "cell_type": "code",
   "execution_count": null,
   "id": "e2875f76",
   "metadata": {},
   "outputs": [],
   "source": [
    "cities_ja = '[\\\"Dallas\\\", \\\"Frisco\\\", \\\"Hyderabad\\\"]'"
   ]
  },
  {
   "cell_type": "code",
   "execution_count": 14,
   "id": "74f1b7c8",
   "metadata": {},
   "outputs": [
    {
     "data": {
      "text/plain": [
       "'Frisco'"
      ]
     },
     "execution_count": 14,
     "metadata": {},
     "output_type": "execute_result"
    }
   ],
   "source": [
    "json.loads(cities_ja)[1]"
   ]
  },
  {
   "cell_type": "code",
   "execution_count": 17,
   "id": "3c2d11ae",
   "metadata": {},
   "outputs": [],
   "source": [
    "file_path = 'schemas.json'"
   ]
  },
  {
   "cell_type": "code",
   "execution_count": 19,
   "id": "d5f68fdc",
   "metadata": {},
   "outputs": [
    {
     "data": {
      "text/plain": [
       "<_io.TextIOWrapper name='schemas.json' mode='r' encoding='cp1252'>"
      ]
     },
     "execution_count": 19,
     "metadata": {},
     "output_type": "execute_result"
    }
   ],
   "source": [
    "open(file_path, 'r')"
   ]
  },
  {
   "cell_type": "code",
   "execution_count": 20,
   "id": "c80d76a9",
   "metadata": {},
   "outputs": [],
   "source": [
    "schemas = json.load(open(file_path, 'r'))"
   ]
  },
  {
   "cell_type": "code",
   "execution_count": 21,
   "id": "b23c74a0",
   "metadata": {},
   "outputs": [
    {
     "data": {
      "text/plain": [
       "dict"
      ]
     },
     "execution_count": 21,
     "metadata": {},
     "output_type": "execute_result"
    }
   ],
   "source": [
    "type(schemas)"
   ]
  },
  {
   "cell_type": "code",
   "execution_count": 22,
   "id": "09bc5843",
   "metadata": {},
   "outputs": [
    {
     "data": {
      "text/plain": [
       "dict_keys(['departments', 'categories', 'orders', 'products', 'customers', 'order_items'])"
      ]
     },
     "execution_count": 22,
     "metadata": {},
     "output_type": "execute_result"
    }
   ],
   "source": [
    "schemas.keys()"
   ]
  },
  {
   "cell_type": "code",
   "execution_count": 23,
   "id": "9caa1a65",
   "metadata": {},
   "outputs": [
    {
     "data": {
      "text/plain": [
       "dict_values([[{'column_name': 'department_id', 'data_type': 'integer', 'column_position': 1}, {'column_name': 'department_name', 'data_type': 'string', 'column_position': 2}], [{'column_name': 'category_id', 'data_type': 'integer', 'column_position': 1}, {'column_name': 'category_department_id', 'data_type': 'integer', 'column_position': 2}, {'column_name': 'category_name', 'data_type': 'string', 'column_position': 3}], [{'column_name': 'order_id', 'data_type': 'integer', 'column_position': 1}, {'column_name': 'order_date', 'data_type': 'string', 'column_position': 2}, {'column_name': 'order_customer_id', 'data_type': 'timestamp', 'column_position': 3}, {'column_name': 'order_status', 'data_type': 'string', 'column_position': 4}], [{'column_name': 'product_id', 'data_type': 'integer', 'column_position': 1}, {'column_name': 'product_cateogry_id', 'data_type': 'integer', 'column_position': 2}, {'column_name': 'product_name', 'data_type': '', 'column_position': 3}, {'column_name': 'product_description', 'data_type': 'string', 'column_position': 4}, {'column_name': 'product_price', 'data_type': 'float', 'column_position': 5}, {'column_name': 'product_image', 'data_type': 'string', 'column_position': 6}], [{'column_name': 'customer_id', 'data_type': 'integer', 'column_position': 1}, {'column_name': 'customer_fname', 'data_type': 'string', 'column_position': 2}, {'column_name': 'customer_lname', 'data_type': 'string', 'column_position': 3}, {'column_name': 'customer_email', 'data_type': 'string', 'column_position': 4}, {'column_name': 'customer_password', 'data_type': 'string', 'column_position': 5}, {'column_name': 'customer_street', 'data_type': 'string', 'column_position': 6}, {'column_name': 'customer_city', 'data_type': 'string', 'column_position': 7}, {'column_name': 'customer_state', 'data_type': 'string', 'column_position': 8}, {'column_name': 'customer_zipcode', 'data_type': 'integer', 'column_position': 9}], [{'column_name': 'order_item_id', 'data_type': 'integer', 'column_position': 1}, {'column_name': 'order_item_order_id', 'data_type': 'integer', 'column_position': 2}, {'column_name': 'order_item_product_id', 'data_type': 'integer', 'column_position': 3}, {'column_name': 'order_item_quantity', 'data_type': 'integer', 'column_position': 4}, {'column_name': 'order_item_subtotal', 'data_type': 'float', 'column_position': 5}, {'column_name': 'order_item_product_price', 'data_type': 'float', 'column_position': 6}]])"
      ]
     },
     "execution_count": 23,
     "metadata": {},
     "output_type": "execute_result"
    }
   ],
   "source": [
    "schemas.values()"
   ]
  },
  {
   "cell_type": "code",
   "execution_count": 34,
   "id": "0d1cc26d",
   "metadata": {},
   "outputs": [
    {
     "data": {
      "text/plain": [
       "[{'column_name': 'order_id', 'data_type': 'integer', 'column_position': 1},\n",
       " {'column_name': 'order_date', 'data_type': 'string', 'column_position': 2},\n",
       " {'column_name': 'order_customer_id',\n",
       "  'data_type': 'timestamp',\n",
       "  'column_position': 3},\n",
       " {'column_name': 'order_status', 'data_type': 'string', 'column_position': 4}]"
      ]
     },
     "execution_count": 34,
     "metadata": {},
     "output_type": "execute_result"
    }
   ],
   "source": [
    "schemas.get('orders')\n",
    "#schemas.get('order_items')"
   ]
  },
  {
   "cell_type": "code",
   "execution_count": 31,
   "id": "bb067115",
   "metadata": {},
   "outputs": [
    {
     "data": {
      "text/plain": [
       "[{'column_name': 'order_id', 'data_type': 'integer', 'column_position': 1},\n",
       " {'column_name': 'order_date', 'data_type': 'string', 'column_position': 2},\n",
       " {'column_name': 'order_customer_id',\n",
       "  'data_type': 'timestamp',\n",
       "  'column_position': 3},\n",
       " {'column_name': 'order_status', 'data_type': 'string', 'column_position': 4}]"
      ]
     },
     "execution_count": 31,
     "metadata": {},
     "output_type": "execute_result"
    }
   ],
   "source": [
    "schemas['orders']"
   ]
  },
  {
   "cell_type": "code",
   "execution_count": null,
   "id": "f1431975",
   "metadata": {},
   "outputs": [],
   "source": []
  }
 ],
 "metadata": {
  "kernelspec": {
   "display_name": ".venv",
   "language": "python",
   "name": "python3"
  },
  "language_info": {
   "codemirror_mode": {
    "name": "ipython",
    "version": 3
   },
   "file_extension": ".py",
   "mimetype": "text/x-python",
   "name": "python",
   "nbconvert_exporter": "python",
   "pygments_lexer": "ipython3",
   "version": "3.11.4"
  }
 },
 "nbformat": 4,
 "nbformat_minor": 5
}
