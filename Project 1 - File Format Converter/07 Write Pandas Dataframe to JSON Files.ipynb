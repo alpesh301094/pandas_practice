{
 "cells": [
  {
   "cell_type": "code",
   "execution_count": 14,
   "id": "9582f939",
   "metadata": {},
   "outputs": [],
   "source": [
    "import glob"
   ]
  },
  {
   "cell_type": "code",
   "execution_count": 15,
   "id": "e41a94c7",
   "metadata": {},
   "outputs": [],
   "source": [
    "src_file_names = glob.glob('data/retail_db/*/part*')"
   ]
  },
  {
   "cell_type": "code",
   "execution_count": 16,
   "id": "32d2b015",
   "metadata": {},
   "outputs": [],
   "source": [
    "import re"
   ]
  },
  {
   "cell_type": "code",
   "execution_count": 17,
   "id": "7add693a",
   "metadata": {},
   "outputs": [
    {
     "name": "stdout",
     "output_type": "stream",
     "text": [
      "['data', 'retail_db', 'categories', 'part-00000']\n",
      "['data', 'retail_db', 'customers', 'part-00000']\n",
      "['data', 'retail_db', 'departments', 'part-00000']\n",
      "['data', 'retail_db', 'orders', 'part-00000']\n",
      "['data', 'retail_db', 'order_items', 'part-00000']\n",
      "['data', 'retail_db', 'products', 'part-00000']\n"
     ]
    }
   ],
   "source": [
    "for file in src_file_names:\n",
    "    file_path_list = re.split('[/\\\\\\]', file)\n",
    "    print(file_path_list)"
   ]
  },
  {
   "cell_type": "code",
   "execution_count": 18,
   "id": "4e4ed7aa",
   "metadata": {},
   "outputs": [],
   "source": [
    "base_dir = 'data/retail_db_json'"
   ]
  },
  {
   "cell_type": "code",
   "execution_count": 19,
   "id": "a28e1080",
   "metadata": {},
   "outputs": [
    {
     "name": "stdout",
     "output_type": "stream",
     "text": [
      "data/retail_db_json/categories/part-00000\n",
      "data/retail_db_json/customers/part-00000\n",
      "data/retail_db_json/departments/part-00000\n",
      "data/retail_db_json/orders/part-00000\n",
      "data/retail_db_json/order_items/part-00000\n",
      "data/retail_db_json/products/part-00000\n"
     ]
    }
   ],
   "source": [
    "for file in src_file_names:\n",
    "    file_path_list = re.split('[/\\\\\\]', file)\n",
    "    ds_name = file_path_list[-2]\n",
    "    file_name = file_path_list[-1]\n",
    "    json_file_path = f'{base_dir}/{ds_name}/{file_name}'\n",
    "    print(json_file_path)"
   ]
  },
  {
   "cell_type": "code",
   "execution_count": 20,
   "id": "2e0556b8",
   "metadata": {},
   "outputs": [],
   "source": [
    "import json"
   ]
  },
  {
   "cell_type": "code",
   "execution_count": 21,
   "id": "a8a63df0",
   "metadata": {},
   "outputs": [],
   "source": [
    "def get_column_names(schemas, ds_name, sorting_key='column_position'):\n",
    "    column_details = schemas[ds_name]\n",
    "    columns = sorted(column_details, key=lambda col: col[sorting_key])\n",
    "    return [col['column_name'] for col in columns]"
   ]
  },
  {
   "cell_type": "code",
   "execution_count": 22,
   "id": "cb96eb70",
   "metadata": {},
   "outputs": [],
   "source": [
    "schemas = json.load(open('data/retail_db/schemas.json'))"
   ]
  },
  {
   "cell_type": "code",
   "execution_count": 23,
   "id": "bcffd007",
   "metadata": {},
   "outputs": [],
   "source": [
    "import pandas as pd"
   ]
  },
  {
   "cell_type": "code",
   "execution_count": 24,
   "id": "0b23cb5d",
   "metadata": {},
   "outputs": [
    {
     "name": "stdout",
     "output_type": "stream",
     "text": [
      "Processing data/retail_db\\categories\\part-00000\n",
      "Shape of categories is (58, 3)\n",
      "Processing data/retail_db\\customers\\part-00000\n",
      "Shape of customers is (12435, 9)\n",
      "Processing data/retail_db\\departments\\part-00000\n",
      "Shape of departments is (6, 2)\n",
      "Processing data/retail_db\\orders\\part-00000\n",
      "Shape of orders is (68883, 4)\n",
      "Processing data/retail_db\\order_items\\part-00000\n",
      "Shape of order_items is (172198, 6)\n",
      "Processing data/retail_db\\products\\part-00000\n",
      "Shape of products is (1345, 6)\n"
     ]
    }
   ],
   "source": [
    "for file in src_file_names:\n",
    "    print(f'Processing {file}')\n",
    "    file_path_list = re.split('[/\\\\\\]', file)\n",
    "    ds_name = file_path_list[-2]\n",
    "    columns = get_column_names(schemas, ds_name)\n",
    "    df = pd.read_csv(file, names=columns)\n",
    "    print(f'Shape of {ds_name} is {df.shape}')"
   ]
  },
  {
   "cell_type": "code",
   "execution_count": 25,
   "id": "f8e50dc7",
   "metadata": {},
   "outputs": [],
   "source": [
    "import os"
   ]
  },
  {
   "cell_type": "code",
   "execution_count": 27,
   "id": "2fd58d7b",
   "metadata": {},
   "outputs": [
    {
     "name": "stdout",
     "output_type": "stream",
     "text": [
      "Processing data/retail_db\\categories\\part-00000\n",
      "Processing data/retail_db\\customers\\part-00000\n",
      "Processing data/retail_db\\departments\\part-00000\n",
      "Processing data/retail_db\\orders\\part-00000\n",
      "Processing data/retail_db\\order_items\\part-00000\n",
      "Processing data/retail_db\\products\\part-00000\n"
     ]
    }
   ],
   "source": [
    "tgt_base_dir = 'data/retail_db_json'\n",
    "for file in src_file_names:\n",
    "    print(f'Processing {file}')\n",
    "    file_path_list = re.split('[/\\\\\\]', file)\n",
    "    ds_name = file_path_list[-2]\n",
    "    file_name = file_path_list[-1]\n",
    "    json_file_path = f'{base_dir}/{ds_name}/{file_name}'\n",
    "    columns = get_column_names(schemas, ds_name)\n",
    "    df = pd.read_csv(file, names=columns)\n",
    "    os.makedirs(f'{tgt_base_dir}/{ds_name}', exist_ok=True)\n",
    "    df.to_json(\n",
    "        json_file_path,\n",
    "        orient='records',\n",
    "        lines=True\n",
    "    )"
   ]
  },
  {
   "cell_type": "code",
   "execution_count": null,
   "id": "707cf8d1",
   "metadata": {},
   "outputs": [],
   "source": []
  }
 ],
 "metadata": {
  "kernelspec": {
   "display_name": ".venv",
   "language": "python",
   "name": "python3"
  },
  "language_info": {
   "codemirror_mode": {
    "name": "ipython",
    "version": 3
   },
   "file_extension": ".py",
   "mimetype": "text/x-python",
   "name": "python",
   "nbconvert_exporter": "python",
   "pygments_lexer": "ipython3",
   "version": "3.11.4"
  }
 },
 "nbformat": 4,
 "nbformat_minor": 5
}
